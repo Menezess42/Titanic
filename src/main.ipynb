{
 "cells": [
  {
   "cell_type": "markdown",
   "id": "bf590fb2-48a5-40b2-8ed6-b66617f1364e",
   "metadata": {},
   "source": [
    "Notebook Titanic\n",
    "================\n",
    "\n",
    "**Author:** Sr. Menezes\n",
    "\n"
   ]
  },
  {
   "cell_type": "markdown",
   "id": "bceb0b73-7dfc-462b-b43f-e990dfe664f0",
   "metadata": {},
   "source": [
    "## Titanica\n",
    "\n"
   ]
  },
  {
   "cell_type": "markdown",
   "id": "20e4d035-e408-43cb-abc5-5e7ab06dafe0",
   "metadata": {},
   "source": [
    "### Imports\n",
    "\n"
   ]
  },
  {
   "cell_type": "markdown",
   "id": "040599a6-adfc-466d-966b-8ec86c323a63",
   "metadata": {},
   "source": [
    "#### pandas:\n",
    "\n"
   ]
  },
  {
   "cell_type": "markdown",
   "id": "04e195bd-85ca-4b5f-9c2b-e7331c063eba",
   "metadata": {},
   "source": [
    "-   Responsible 4 read the data\n",
    "\n"
   ]
  },
  {
   "cell_type": "markdown",
   "id": "60c711b5-d917-4989-92f9-1e8efb44b71c",
   "metadata": {},
   "source": [
    "#### numpy:\n",
    "\n"
   ]
  },
  {
   "cell_type": "markdown",
   "id": "8d95a4ba-4cf5-43db-afbe-e581b58725b9",
   "metadata": {},
   "source": [
    "-   Responsible 4 do math with nD-arrays\n",
    "\n"
   ]
  },
  {
   "cell_type": "markdown",
   "id": "871ef0a9-b84b-4ca9-985f-e3ac0320640a",
   "metadata": {},
   "source": [
    "#### seaborn:\n",
    "\n"
   ]
  },
  {
   "cell_type": "markdown",
   "id": "8e479051-2847-4c8c-b203-5ea4cc84b64d",
   "metadata": {},
   "source": [
    "-   Responsible 4 showing pretty graphs\n",
    "\n"
   ]
  },
  {
   "cell_type": "markdown",
   "id": "b999057a-9277-4faf-9dd3-926cd61cd58f",
   "metadata": {},
   "source": [
    "#### matplotlib.pyplot:\n",
    "\n"
   ]
  },
  {
   "cell_type": "markdown",
   "id": "ade96357-ebdc-4b53-bc0f-b40f3013c903",
   "metadata": {},
   "source": [
    "-   Responsible 4 showing graphs\n",
    "\n"
   ]
  },
  {
   "cell_type": "markdown",
   "id": "52b09532-1001-44f3-b567-f8bea7be2aae",
   "metadata": {},
   "source": [
    "#### sklearn.preprocessing OrdinalEncoder:\n",
    "\n"
   ]
  },
  {
   "cell_type": "markdown",
   "id": "1eeabc8f-502b-4145-97f9-349ab463b754",
   "metadata": {},
   "source": [
    "-   Responsible 4 transform categorical features into numerical representations. (categorical features as an integer array)\n",
    "\n"
   ]
  },
  {
   "cell_type": "markdown",
   "id": "a71699fb-4eca-4173-b1f5-9b470f209a1b",
   "metadata": {},
   "source": [
    "#### sklearn.impute SimpleImputer:\n",
    "\n"
   ]
  },
  {
   "cell_type": "markdown",
   "id": "8e433a37-57a4-48b4-a679-d7ddb75853c8",
   "metadata": {},
   "source": [
    "-   Class designed to handling missing values in datasets. (Primary function is to replace NaN or other specified missing value placeholders with imputed values based on chosen strategy)\n",
    "\n"
   ]
  },
  {
   "cell_type": "markdown",
   "id": "ae0b008f-481f-44af-801a-ffba944096e5",
   "metadata": {},
   "source": [
    "#### sklearn.compose make<sub>column</sub><sub>transformer</sub>:\n",
    "\n"
   ]
  },
  {
   "cell_type": "markdown",
   "id": "23206f02-f375-4157-bd9f-5394fa49ffb2",
   "metadata": {},
   "source": [
    "-   Is a convenience function that simplifies the creation of ColumnTransformer objects.\n",
    "\n"
   ]
  },
  {
   "cell_type": "markdown",
   "id": "08f968fb-b03d-493e-8c56-89056f2f9f9c",
   "metadata": {},
   "source": [
    "#### sklearn.pipeline:\n",
    "\n"
   ]
  },
  {
   "cell_type": "markdown",
   "id": "fbb8fe20-04ce-4d67-b153-cfcee1777aea",
   "metadata": {},
   "source": [
    "##### Pipeline:\n",
    "\n"
   ]
  },
  {
   "cell_type": "markdown",
   "id": "072875de-577a-4665-853b-7023f27c45d2",
   "metadata": {},
   "source": [
    "-   Is a tool that allows me to chain together multiple data transformations and a final estimator(like a classifier or regressor) into a single, cohesive object, it streamline the machine learning workflow by ensuring that all steps, from pre-processing to model training, are applied consistently and efficiently.\n",
    "\n"
   ]
  },
  {
   "cell_type": "markdown",
   "id": "c5f39cc2-0e75-46eb-96b9-2bc362278998",
   "metadata": {},
   "source": [
    "##### make<sub>pipeline</sub>:\n",
    "\n"
   ]
  },
  {
   "cell_type": "markdown",
   "id": "5632f670-8389-49ca-a8bb-f5709af8738d",
   "metadata": {},
   "source": [
    "-   Function that simplifies the creation of Pipeline object\n",
    "\n"
   ]
  },
  {
   "cell_type": "markdown",
   "id": "15c88eb5-6e27-4f7f-a21c-090b08b94717",
   "metadata": {},
   "source": [
    "#### sklearn.linear<sub>model</sub> LogisitcRegression\n",
    "\n"
   ]
  },
  {
   "cell_type": "markdown",
   "id": "135e0421-c6f4-4e01-90aa-98a5f3d7c8ea",
   "metadata": {},
   "source": [
    "-   Implements the Logistic Regression. A classification algorithhm used for predcting the probability of a categorical outcome.\n",
    "\n"
   ]
  },
  {
   "cell_type": "markdown",
   "id": "a1419b01-b935-46ca-88c9-f010b15fa6ef",
   "metadata": {},
   "source": [
    "#### sklearn.svm SVC\n",
    "\n"
   ]
  },
  {
   "cell_type": "markdown",
   "id": "55b86cb7-7dcc-43d4-875e-875a67629d9c",
   "metadata": {},
   "source": [
    "-   SVC(Suport Vector Classifier) is a type of Support Vector Machine (SVM) used for classification tasks\n",
    "\n"
   ]
  },
  {
   "cell_type": "markdown",
   "id": "b8f3589a-df30-4772-aedc-29b18b6ab928",
   "metadata": {},
   "source": [
    "#### sklearn.ensemble RandomForestCalssifier\n",
    "\n"
   ]
  },
  {
   "cell_type": "markdown",
   "id": "7292062b-7989-4f43-a5ee-6b3e3a3a629f",
   "metadata": {},
   "source": [
    "-   Sklearn implements of a Random Forest Classifier, whichh is a ensamble learn method. An ensemble learning is a ML technique that comines multiple individual models to create a more powerful and accurate predctive model\n",
    "\n"
   ]
  },
  {
   "cell_type": "markdown",
   "id": "9ac217dc-bd82-41db-9f0a-e6e450c3e567",
   "metadata": {},
   "source": [
    "#### sklearn.neighbors KNeighborsClassifier\n",
    "\n"
   ]
  },
  {
   "cell_type": "markdown",
   "id": "97b21e8d-1a75-4cb3-9bf9-864807f830bf",
   "metadata": {},
   "source": [
    "-   KNNs for classification\n",
    "\n"
   ]
  },
  {
   "cell_type": "markdown",
   "id": "7ee0de91-0ddf-4f52-816d-596e9a9a8608",
   "metadata": {},
   "source": [
    "#### sklearn.naive<sub>bayes</sub> GaussianNB\n",
    "\n"
   ]
  },
  {
   "cell_type": "markdown",
   "id": "3b87e2dd-36e8-4ee0-b04c-209d557250b9",
   "metadata": {},
   "source": [
    "-   GaussianNB is like Naive Bayes but for numbers, not categorical\n",
    "\n"
   ]
  },
  {
   "cell_type": "markdown",
   "id": "474c5443-f078-478a-9596-0e365680551f",
   "metadata": {},
   "source": [
    "#### sklearn.model<sub>selection</sub>\n",
    "\n"
   ]
  },
  {
   "cell_type": "markdown",
   "id": "56273c3e-2403-4054-b3d9-c52cb83204d9",
   "metadata": {},
   "source": [
    "##### cross<sub>val</sub><sub>score</sub>\n",
    "\n"
   ]
  },
  {
   "cell_type": "markdown",
   "id": "0abb9223-8680-4f6b-8a24-a51f2c7156ba",
   "metadata": {},
   "source": [
    "-   it is the cross validation score\n",
    "\n"
   ]
  },
  {
   "cell_type": "markdown",
   "id": "6316d403-7a5f-42e2-a7e6-c1d74c05b702",
   "metadata": {},
   "source": [
    "##### stratifiedKFodl\n",
    "\n"
   ]
  },
  {
   "cell_type": "markdown",
   "id": "273c5114-5a1a-432a-b48f-f2f791c6c976",
   "metadata": {},
   "source": [
    "-   Provides train/test indices to split data in train and test sets\n",
    "\n"
   ]
  },
  {
   "cell_type": "markdown",
   "id": "6af9166c-db04-41d8-bc69-a2a40b62cdc2",
   "metadata": {},
   "source": [
    "##### train<sub>test</sub><sub>split</sub>\n",
    "\n"
   ]
  },
  {
   "cell_type": "markdown",
   "id": "f4c210b9-d3cf-4c51-9a95-de009a76481c",
   "metadata": {},
   "source": [
    "-   is a method for splitting the data\n",
    "\n"
   ]
  },
  {
   "cell_type": "markdown",
   "id": "1683b65d-3783-4c45-a966-0670e0b05d8d",
   "metadata": {},
   "source": [
    "##### GridSearchCV\n",
    "\n"
   ]
  },
  {
   "cell_type": "markdown",
   "id": "547ac002-2595-44fc-a134-8baadbe94198",
   "metadata": {},
   "source": [
    "-   is a powerful tool in sckikit-learn used for hyper-parameter tuning ML models.\n",
    "\n"
   ]
  },
  {
   "cell_type": "markdown",
   "id": "1c3c65d8-2e73-4a41-ae0f-5ebda407cf14",
   "metadata": {},
   "source": [
    "#### Codigo:\n"
   ]
  },
  {
   "cell_type": "markdown",
   "id": "9a83f84e",
   "metadata": {},
   "source": [
    "```Python\n",
    "import pandas as pd\n",
    "import numpy as np\n",
    "import seaborn as sns\n",
    "from sklearn.preprocessing import OrdinalEncoder\n",
    "from sklearn.impute import SimpleImputer\n",
    "from sklearn.compose import make_column_selector\n",
    "from sklearn.pipeline import Pipeline, make_pipeline\n",
    "from sklearn.linear_model import LogisticRegression\n",
    "from sklearn.svm import SVC\n",
    "from sklearn.ensemble import RandomForestClassifier\n",
    "from sklearn.neighbors import KNeighborsClassifier\n",
    "from sklearn.naive_bayes import GaussianNB\n",
    "from sklearn.model_selection import cross_val_score, StratifiedKFold, GridSearchCV\n",
    "from pathlib import Path\n",
    "```\n",
    "\n",
    "### Global constants\n",
    "\n"
   ]
  },
  {
   "cell_type": "code",
   "execution_count": null,
   "id": "2eae92ab",
   "metadata": {},
   "outputs": [],
   "source": [
    "# BASE_PATH = Path(__file__).parent.parent\n",
    "# DATA_PATH = Path(__file__).parent.parent / \"data\"\n",
    "DATA_PATH2 = \"/mnt/hdmenezess42/GitProjects/Titanic/data/\""
   ]
  },
  {
   "cell_type": "markdown",
   "id": "40f1e3f8",
   "metadata": {},
   "source": [
    "### Import the data\n",
    "\n"
   ]
  },
  {
   "cell_type": "code",
   "execution_count": null,
   "id": "1e3b7f5e",
   "metadata": {},
   "outputs": [],
   "source": [
    "train_df = pd.read_csv(f\"{DATA_PATH2}/train.csv\")\n",
    "test_df = pd.read_csv(f\"{DATA_PATH2}/test.csv\")"
   ]
  },
  {
   "cell_type": "markdown",
   "id": "09aa8254",
   "metadata": {},
   "source": [
    "### Showing train heads\n",
    "\n"
   ]
  },
  {
   "cell_type": "code",
   "execution_count": 1,
   "id": "addc202f-4610-488d-94b6-1c583fec9eb5",
   "metadata": {},
   "outputs": [],
   "source": [
    "train_df.head()"
   ]
  },
  {
   "cell_type": "markdown",
   "id": "b93d42d8",
   "metadata": {},
   "source": [
    "```Python\n",
    "print(\"Ola Mundo\")\n",
    "```\n",
    "\n",
    "\n",
    "\n",
    "\n",
    "\n",
    "\n",
    "\n",
    "\n",
    "\n"
   ]
  }
 ],
 "metadata": {
  "kernelspec": {
   "display_name": "Python 3",
   "language": "python",
   "name": "python3"
  },
  "language_info": {
   "codemirror_mode": {
    "name": "ipython",
    "version": 3
   },
   "file_extension": ".py",
   "mimetype": "text/x-python",
   "name": "python",
   "nbconvert_exporter": "python",
   "pygments_lexer": "ipython3",
   "version": "3.5.2"
  },
  "org": null
 },
 "nbformat": 4,
 "nbformat_minor": 5
}
