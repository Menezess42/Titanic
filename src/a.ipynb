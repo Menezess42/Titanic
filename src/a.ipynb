# Test
```python
print("Ola Mundo")
```
