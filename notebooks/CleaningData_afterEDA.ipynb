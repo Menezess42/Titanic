{
 "cells": [
  {
   "cell_type": "markdown",
   "id": "bf590fb2-48a5-40b2-8ed6-b66617f1364e",
   "metadata": {},
   "source": [
    "Notebook Titanic - EDA\n",
    "================\n",
    "\n",
    "**Author:** Sr. Menezes\n",
    "\n"
   ]
  },
  {
   "cell_type": "markdown",
   "id": "bceb0b73-7dfc-462b-b43f-e990dfe664f0",
   "metadata": {},
   "source": [
    "## Titanic\n",
    "\n"
   ]
  },
  {
   "cell_type": "markdown",
   "id": "20e4d035-e408-43cb-abc5-5e7ab06dafe0",
   "metadata": {},
   "source": [
    "# Imports\n",
    "\n"
   ]
  },
  {
   "cell_type": "code",
   "execution_count": 2,
   "id": "040599a6-adfc-466d-966b-8ec86c323a63",
   "metadata": {},
   "outputs": [],
   "source": [
    "import pandas as pd"
   ]
  },
  {
   "cell_type": "markdown",
   "id": "04e195bd-85ca-4b5f-9c2b-e7331c063eba",
   "metadata": {},
   "source": [
    "-   Responsible 4 read the data\n",
    "\n"
   ]
  },
  {
   "cell_type": "code",
   "execution_count": 3,
   "id": "60c711b5-d917-4989-92f9-1e8efb44b71c",
   "metadata": {},
   "outputs": [],
   "source": [
    "import numpy as np"
   ]
  },
  {
   "cell_type": "markdown",
   "id": "8d95a4ba-4cf5-43db-afbe-e581b58725b9",
   "metadata": {},
   "source": [
    "-   Responsible 4 do math with nD-arrays\n",
    "\n"
   ]
  },
  {
   "cell_type": "code",
   "execution_count": 4,
   "id": "871ef0a9-b84b-4ca9-985f-e3ac0320640a",
   "metadata": {},
   "outputs": [],
   "source": [
    "import seaborn as sns"
   ]
  },
  {
   "cell_type": "markdown",
   "id": "8e479051-2847-4c8c-b203-5ea4cc84b64d",
   "metadata": {},
   "source": [
    "-   Responsible 4 showing pretty graphs\n",
    "\n"
   ]
  },
  {
   "cell_type": "code",
   "execution_count": 5,
   "id": "b999057a-9277-4faf-9dd3-926cd61cd58f",
   "metadata": {},
   "outputs": [],
   "source": [
    "import matplotlib.pyplot as plt"
   ]
  },
  {
   "cell_type": "markdown",
   "id": "ade96357-ebdc-4b53-bc0f-b40f3013c903",
   "metadata": {},
   "source": [
    "-   Responsible 4 showing graphs\n",
    "\n"
   ]
  },
  {
   "cell_type": "code",
   "execution_count": 6,
   "id": "52b09532-1001-44f3-b567-f8bea7be2aae",
   "metadata": {},
   "outputs": [],
   "source": [
    "from sklearn.preprocessing import OrdinalEncoder"
   ]
  },
  {
   "cell_type": "markdown",
   "id": "1eeabc8f-502b-4145-97f9-349ab463b754",
   "metadata": {},
   "source": [
    "-   Responsible 4 transform categorical features into numerical representations. (categorical features as an integer array)\n",
    "\n"
   ]
  },
  {
   "cell_type": "code",
   "execution_count": 7,
   "id": "a71699fb-4eca-4173-b1f5-9b470f209a1b",
   "metadata": {},
   "outputs": [],
   "source": [
    "from sklearn.impute import SimpleImputer"
   ]
  },
  {
   "cell_type": "markdown",
   "id": "8e433a37-57a4-48b4-a679-d7ddb75853c8",
   "metadata": {},
   "source": [
    "-   Class designed to handling missing values in datasets. (Primary function is to replace NaN or other specified missing value placeholders with imputed values based on chosen strategy)\n",
    "\n"
   ]
  },
  {
   "cell_type": "code",
   "execution_count": 8,
   "id": "ae0b008f-481f-44af-801a-ffba944096e5",
   "metadata": {},
   "outputs": [],
   "source": [
    "from sklearn.compose import make_column_transformer"
   ]
  },
  {
   "cell_type": "markdown",
   "id": "23206f02-f375-4157-bd9f-5394fa49ffb2",
   "metadata": {},
   "source": [
    "-   Is a convenience function that simplifies the creation of ColumnTransformer objects.\n",
    "\n"
   ]
  },
  {
   "cell_type": "code",
   "execution_count": 9,
   "id": "08f968fb-b03d-493e-8c56-89056f2f9f9c",
   "metadata": {},
   "outputs": [],
   "source": [
    "from sklearn.pipeline import Pipeline, make_pipeline"
   ]
  },
  {
   "cell_type": "markdown",
   "id": "fbb8fe20-04ce-4d67-b153-cfcee1777aea",
   "metadata": {},
   "source": [
    "- Pipeline:\n",
    "    -   Is a tool that allows me to chain together multiple data transformations and a final estimator(like a classifier or regressor) into a single, cohesive object, it streamline the machine learning workflow by ensuring that all steps, from pre-processing to model training, are applied consistently and efficiently.\n",
    "- make_pipeline:\n",
    "    -  Function that simplifies the creation of Pipeline object"
   ]
  },
  {
   "cell_type": "code",
   "execution_count": 10,
   "id": "15c88eb5-6e27-4f7f-a21c-090b08b94717",
   "metadata": {},
   "outputs": [],
   "source": [
    "from sklearn.linear_model import LogisticRegression"
   ]
  },
  {
   "cell_type": "markdown",
   "id": "135e0421-c6f4-4e01-90aa-98a5f3d7c8ea",
   "metadata": {},
   "source": [
    "-   Implements the Logistic Regression. A classification algorithhm used for predcting the probability of a categorical outcome.\n",
    "\n"
   ]
  },
  {
   "cell_type": "code",
   "execution_count": 11,
   "id": "a1419b01-b935-46ca-88c9-f010b15fa6ef",
   "metadata": {},
   "outputs": [],
   "source": [
    "from sklearn.svm import SVC"
   ]
  },
  {
   "cell_type": "markdown",
   "id": "55b86cb7-7dcc-43d4-875e-875a67629d9c",
   "metadata": {},
   "source": [
    "-   SVC(Suport Vector Classifier) is a type of Support Vector Machine (SVM) used for classification tasks\n",
    "\n"
   ]
  },
  {
   "cell_type": "code",
   "execution_count": 12,
   "id": "b8f3589a-df30-4772-aedc-29b18b6ab928",
   "metadata": {},
   "outputs": [],
   "source": [
    "from sklearn.ensemble import RandomForestClassifier"
   ]
  },
  {
   "cell_type": "markdown",
   "id": "7292062b-7989-4f43-a5ee-6b3e3a3a629f",
   "metadata": {},
   "source": [
    "-   Sklearn implements of a Random Forest Classifier, whichh is a ensamble learn method. An ensemble learning is a ML technique that comines multiple individual models to create a more powerful and accurate predctive model\n",
    "\n"
   ]
  },
  {
   "cell_type": "code",
   "execution_count": 13,
   "id": "9ac217dc-bd82-41db-9f0a-e6e450c3e567",
   "metadata": {},
   "outputs": [],
   "source": [
    "from sklearn.tree import DecisionTreeClassifier"
   ]
  },
  {
   "cell_type": "markdown",
   "id": "97b21e8d-1a75-4cb3-9bf9-864807f830bf",
   "metadata": {},
   "source": [
    "-  Decision tree for classication\n",
    "\n"
   ]
  },
  {
   "cell_type": "code",
   "execution_count": 14,
   "id": "7ee0de91-0ddf-4f52-816d-596e9a9a8608",
   "metadata": {},
   "outputs": [],
   "source": [
    "from sklearn.naive_bayes import GaussianNB"
   ]
  },
  {
   "cell_type": "markdown",
   "id": "3b87e2dd-36e8-4ee0-b04c-209d557250b9",
   "metadata": {},
   "source": [
    "-   GaussianNB is like Naive Bayes but for numbers, not categorical\n",
    "\n"
   ]
  },
  {
   "cell_type": "code",
   "execution_count": 15,
   "id": "474c5443-f078-478a-9596-0e365680551f",
   "metadata": {},
   "outputs": [],
   "source": [
    "from sklearn.model_selection import cross_val_score, StratifiedKFold, train_test_split, GridSearchCV"
   ]
  },
  {
   "cell_type": "markdown",
   "id": "a62b41fb",
   "metadata": {},
   "source": [
    "- cross_val_score:\n",
    "    - it is the cross validation score\n",
    "- stratifiedKFold:\n",
    "    - provides train/test indices to split data in train and test sets\n",
    "- train_test_split:\n",
    "    - is a method for spliting the data\n",
    "- GridSearchCV:\n",
    "    - is a powerful tool in scikit-learn used for hyper-parameter tuning on ML models."
   ]
  },
  {
   "cell_type": "markdown",
   "id": "9b5a8742",
   "metadata": {},
   "source": [
    "## Data"
   ]
  },
  {
   "cell_type": "code",
   "execution_count": 16,
   "id": "2eae92ab",
   "metadata": {},
   "outputs": [],
   "source": [
    "DATA_PATH2 = \"/mnt/hdmenezess42/GitProjects/Titanic/data/\""
   ]
  },
  {
   "cell_type": "code",
   "execution_count": 18,
   "id": "1e3b7f5e",
   "metadata": {},
   "outputs": [],
   "source": [
    "train_df = pd.read_csv(f\"{DATA_PATH2}/train_afterEDA.csv\")\n",
    "test_df = pd.read_csv(f\"{DATA_PATH2}/test_afterEDA.csv\")"
   ]
  }
 ],
 "metadata": {
  "kernelspec": {
   "display_name": ".venv",
   "language": "python",
   "name": "python3"
  },
  "language_info": {
   "codemirror_mode": {
    "name": "ipython",
    "version": 3
   },
   "file_extension": ".py",
   "mimetype": "text/x-python",
   "name": "python",
   "nbconvert_exporter": "python",
   "pygments_lexer": "ipython3",
   "version": "3.11.13"
  },
  "org": null
 },
 "nbformat": 4,
 "nbformat_minor": 5
}
